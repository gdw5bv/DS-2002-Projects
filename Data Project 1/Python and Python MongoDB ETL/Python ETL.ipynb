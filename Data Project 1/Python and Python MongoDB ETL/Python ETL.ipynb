{
 "cells": [
  {
   "cell_type": "markdown",
   "id": "8acc3dca",
   "metadata": {},
   "source": [
    "## Using Python to Perform ETL"
   ]
  },
  {
   "cell_type": "markdown",
   "id": "f4dbadbc",
   "metadata": {},
   "source": [
    "#### Importing the necessary libraries"
   ]
  },
  {
   "cell_type": "code",
   "execution_count": 1,
   "id": "07c58b3e",
   "metadata": {},
   "outputs": [],
   "source": [
    "import os\n",
    "import numpy\n",
    "import pandas as pd\n",
    "from sqlalchemy import create_engine"
   ]
  },
  {
   "cell_type": "markdown",
   "id": "e2dfd92c",
   "metadata": {},
   "source": [
    "#### Declaring and assigning connection variables for the MySQL server & databases "
   ]
  },
  {
   "cell_type": "code",
   "execution_count": 2,
   "id": "f5fa1e25",
   "metadata": {},
   "outputs": [],
   "source": [
    "host_name = \"localhost\"\n",
    "host_ip = \"127.0.0.1\"\n",
    "port = \"3306\"\n",
    "user_id = \"root\"\n",
    "pwd = \"Password\"\n",
    "\n",
    "src_dbname = \"humanresources\"\n",
    "dst_dbname = \"humanresources_dw2\""
   ]
  },
  {
   "cell_type": "markdown",
   "id": "1602465e",
   "metadata": {},
   "source": [
    "#### Defining functions for getting data from and setting data into databases"
   ]
  },
  {
   "cell_type": "code",
   "execution_count": 3,
   "id": "4757a830",
   "metadata": {},
   "outputs": [],
   "source": [
    "def get_dataframe(user_id, pwd, host_name, db_name, sql_query):\n",
    "    conn_str = f\"mysql+pymysql://{user_id}:{pwd}@{host_name}/{db_name}\"\n",
    "    sqlEngine = create_engine(conn_str, pool_recycle=3600)\n",
    "    connection = sqlEngine.connect()\n",
    "    dframe = pd.read_sql(sql_query, connection);\n",
    "    connection.close()\n",
    "    \n",
    "    return dframe\n",
    "\n",
    "\n",
    "def set_dataframe(user_id, pwd, host_name, db_name, df, table_name, pk_column, db_operation):\n",
    "    conn_str = f\"mysql+pymysql://{user_id}:{pwd}@{host_name}/{db_name}\"\n",
    "    sqlEngine = create_engine(conn_str, pool_recycle=3600)\n",
    "    connection = sqlEngine.connect()\n",
    "    \n",
    "    if db_operation == \"insert\":\n",
    "        df.to_sql(table_name, con=connection, index=False, if_exists='replace')\n",
    "        sqlEngine.execute(f\"ALTER TABLE {table_name} ADD PRIMARY KEY ({pk_column});\")\n",
    "            \n",
    "    elif db_operation == \"update\":\n",
    "        df.to_sql(table_name, con=connection, index=False, if_exists='append')\n",
    "    \n",
    "    connection.close()"
   ]
  },
  {
   "cell_type": "markdown",
   "id": "db4654b0",
   "metadata": {},
   "source": [
    "#### Creating the new data warehouse database"
   ]
  },
  {
   "cell_type": "code",
   "execution_count": 4,
   "id": "299069e7",
   "metadata": {},
   "outputs": [
    {
     "data": {
      "text/plain": [
       "<sqlalchemy.engine.cursor.LegacyCursorResult at 0x7feec5711850>"
      ]
     },
     "execution_count": 4,
     "metadata": {},
     "output_type": "execute_result"
    }
   ],
   "source": [
    "conn_str = f\"mysql+pymysql://{user_id}:{pwd}@{host_name}\"\n",
    "sqlEngine = create_engine(conn_str, pool_recycle=3600)\n",
    "\n",
    "sqlEngine.execute(f\"DROP DATABASE IF EXISTS `{dst_dbname}`;\")\n",
    "sqlEngine.execute(f\"CREATE DATABASE `{dst_dbname}`;\")\n",
    "sqlEngine.execute(f\"USE {dst_dbname};\")"
   ]
  },
  {
   "cell_type": "markdown",
   "id": "82d7e4dd",
   "metadata": {},
   "source": [
    "### Creating and populating the dimension tables\n",
    "#### Extracting data from the source database tables"
   ]
  },
  {
   "cell_type": "code",
   "execution_count": 5,
   "id": "f0167300",
   "metadata": {},
   "outputs": [
    {
     "data": {
      "text/html": [
       "<div>\n",
       "<style scoped>\n",
       "    .dataframe tbody tr th:only-of-type {\n",
       "        vertical-align: middle;\n",
       "    }\n",
       "\n",
       "    .dataframe tbody tr th {\n",
       "        vertical-align: top;\n",
       "    }\n",
       "\n",
       "    .dataframe thead th {\n",
       "        text-align: right;\n",
       "    }\n",
       "</style>\n",
       "<table border=\"1\" class=\"dataframe\">\n",
       "  <thead>\n",
       "    <tr style=\"text-align: right;\">\n",
       "      <th></th>\n",
       "      <th>job_id</th>\n",
       "      <th>job_title</th>\n",
       "      <th>min_salary</th>\n",
       "      <th>max_salary</th>\n",
       "    </tr>\n",
       "  </thead>\n",
       "  <tbody>\n",
       "    <tr>\n",
       "      <th>0</th>\n",
       "      <td>1</td>\n",
       "      <td>Public Accountant</td>\n",
       "      <td>4200.0</td>\n",
       "      <td>9000.0</td>\n",
       "    </tr>\n",
       "    <tr>\n",
       "      <th>1</th>\n",
       "      <td>2</td>\n",
       "      <td>Accounting Manager</td>\n",
       "      <td>8200.0</td>\n",
       "      <td>16000.0</td>\n",
       "    </tr>\n",
       "  </tbody>\n",
       "</table>\n",
       "</div>"
      ],
      "text/plain": [
       "   job_id           job_title  min_salary  max_salary\n",
       "0       1   Public Accountant      4200.0      9000.0\n",
       "1       2  Accounting Manager      8200.0     16000.0"
      ]
     },
     "execution_count": 5,
     "metadata": {},
     "output_type": "execute_result"
    }
   ],
   "source": [
    "# jobs\n",
    "sql_jobs = \"SELECT * FROM humanresources.jobs;\"\n",
    "df_jobs = get_dataframe(user_id, pwd, host_name, src_dbname, sql_jobs)\n",
    "df_jobs.head(2)"
   ]
  },
  {
   "cell_type": "code",
   "execution_count": 6,
   "id": "53574357",
   "metadata": {},
   "outputs": [
    {
     "data": {
      "text/html": [
       "<div>\n",
       "<style scoped>\n",
       "    .dataframe tbody tr th:only-of-type {\n",
       "        vertical-align: middle;\n",
       "    }\n",
       "\n",
       "    .dataframe tbody tr th {\n",
       "        vertical-align: top;\n",
       "    }\n",
       "\n",
       "    .dataframe thead th {\n",
       "        text-align: right;\n",
       "    }\n",
       "</style>\n",
       "<table border=\"1\" class=\"dataframe\">\n",
       "  <thead>\n",
       "    <tr style=\"text-align: right;\">\n",
       "      <th></th>\n",
       "      <th>employee_id</th>\n",
       "      <th>first_name</th>\n",
       "      <th>last_name</th>\n",
       "      <th>email</th>\n",
       "      <th>phone_number</th>\n",
       "      <th>hire_date</th>\n",
       "      <th>job_id</th>\n",
       "      <th>salary</th>\n",
       "      <th>manager_id</th>\n",
       "      <th>department_id</th>\n",
       "    </tr>\n",
       "  </thead>\n",
       "  <tbody>\n",
       "    <tr>\n",
       "      <th>0</th>\n",
       "      <td>100</td>\n",
       "      <td>Steven</td>\n",
       "      <td>King</td>\n",
       "      <td>steven.king@sqltutorial.org</td>\n",
       "      <td>515.123.4567</td>\n",
       "      <td>1987-06-17</td>\n",
       "      <td>4</td>\n",
       "      <td>24000.0</td>\n",
       "      <td>NaN</td>\n",
       "      <td>9</td>\n",
       "    </tr>\n",
       "    <tr>\n",
       "      <th>1</th>\n",
       "      <td>101</td>\n",
       "      <td>Neena</td>\n",
       "      <td>Kochhar</td>\n",
       "      <td>neena.kochhar@sqltutorial.org</td>\n",
       "      <td>515.123.4568</td>\n",
       "      <td>1989-09-21</td>\n",
       "      <td>5</td>\n",
       "      <td>17000.0</td>\n",
       "      <td>100.0</td>\n",
       "      <td>9</td>\n",
       "    </tr>\n",
       "  </tbody>\n",
       "</table>\n",
       "</div>"
      ],
      "text/plain": [
       "   employee_id first_name last_name                          email  \\\n",
       "0          100     Steven      King    steven.king@sqltutorial.org   \n",
       "1          101      Neena   Kochhar  neena.kochhar@sqltutorial.org   \n",
       "\n",
       "   phone_number   hire_date  job_id   salary  manager_id  department_id  \n",
       "0  515.123.4567  1987-06-17       4  24000.0         NaN              9  \n",
       "1  515.123.4568  1989-09-21       5  17000.0       100.0              9  "
      ]
     },
     "execution_count": 6,
     "metadata": {},
     "output_type": "execute_result"
    }
   ],
   "source": [
    "# employees\n",
    "sql_employees = \"SELECT * FROM humanresources.employees;\"\n",
    "df_employees = get_dataframe(user_id, pwd, host_name, src_dbname, sql_employees)\n",
    "df_employees.head(2)"
   ]
  },
  {
   "cell_type": "code",
   "execution_count": 7,
   "id": "8011a3d2",
   "metadata": {},
   "outputs": [
    {
     "data": {
      "text/html": [
       "<div>\n",
       "<style scoped>\n",
       "    .dataframe tbody tr th:only-of-type {\n",
       "        vertical-align: middle;\n",
       "    }\n",
       "\n",
       "    .dataframe tbody tr th {\n",
       "        vertical-align: top;\n",
       "    }\n",
       "\n",
       "    .dataframe thead th {\n",
       "        text-align: right;\n",
       "    }\n",
       "</style>\n",
       "<table border=\"1\" class=\"dataframe\">\n",
       "  <thead>\n",
       "    <tr style=\"text-align: right;\">\n",
       "      <th></th>\n",
       "      <th>department_id</th>\n",
       "      <th>department_name</th>\n",
       "      <th>location_id</th>\n",
       "    </tr>\n",
       "  </thead>\n",
       "  <tbody>\n",
       "    <tr>\n",
       "      <th>0</th>\n",
       "      <td>1</td>\n",
       "      <td>Administration</td>\n",
       "      <td>1700</td>\n",
       "    </tr>\n",
       "    <tr>\n",
       "      <th>1</th>\n",
       "      <td>2</td>\n",
       "      <td>Marketing</td>\n",
       "      <td>1800</td>\n",
       "    </tr>\n",
       "  </tbody>\n",
       "</table>\n",
       "</div>"
      ],
      "text/plain": [
       "   department_id department_name  location_id\n",
       "0              1  Administration         1700\n",
       "1              2       Marketing         1800"
      ]
     },
     "execution_count": 7,
     "metadata": {},
     "output_type": "execute_result"
    }
   ],
   "source": [
    "# departments\n",
    "sql_departments = \"SELECT * FROM humanresources.departments;\"\n",
    "df_departments = get_dataframe(user_id, pwd, host_name, src_dbname, sql_departments)\n",
    "df_departments.head(2)"
   ]
  },
  {
   "cell_type": "code",
   "execution_count": 8,
   "id": "2d196625",
   "metadata": {},
   "outputs": [
    {
     "data": {
      "text/html": [
       "<div>\n",
       "<style scoped>\n",
       "    .dataframe tbody tr th:only-of-type {\n",
       "        vertical-align: middle;\n",
       "    }\n",
       "\n",
       "    .dataframe tbody tr th {\n",
       "        vertical-align: top;\n",
       "    }\n",
       "\n",
       "    .dataframe thead th {\n",
       "        text-align: right;\n",
       "    }\n",
       "</style>\n",
       "<table border=\"1\" class=\"dataframe\">\n",
       "  <thead>\n",
       "    <tr style=\"text-align: right;\">\n",
       "      <th></th>\n",
       "      <th>location_id</th>\n",
       "      <th>street_address</th>\n",
       "      <th>postal_code</th>\n",
       "      <th>city</th>\n",
       "      <th>state_province</th>\n",
       "      <th>country_id</th>\n",
       "    </tr>\n",
       "  </thead>\n",
       "  <tbody>\n",
       "    <tr>\n",
       "      <th>0</th>\n",
       "      <td>1400</td>\n",
       "      <td>2014 Jabberwocky Rd</td>\n",
       "      <td>26192</td>\n",
       "      <td>Southlake</td>\n",
       "      <td>Texas</td>\n",
       "      <td>US</td>\n",
       "    </tr>\n",
       "    <tr>\n",
       "      <th>1</th>\n",
       "      <td>1500</td>\n",
       "      <td>2011 Interiors Blvd</td>\n",
       "      <td>99236</td>\n",
       "      <td>South San Francisco</td>\n",
       "      <td>California</td>\n",
       "      <td>US</td>\n",
       "    </tr>\n",
       "  </tbody>\n",
       "</table>\n",
       "</div>"
      ],
      "text/plain": [
       "   location_id       street_address postal_code                 city  \\\n",
       "0         1400  2014 Jabberwocky Rd       26192            Southlake   \n",
       "1         1500  2011 Interiors Blvd       99236  South San Francisco   \n",
       "\n",
       "  state_province country_id  \n",
       "0          Texas         US  \n",
       "1     California         US  "
      ]
     },
     "execution_count": 8,
     "metadata": {},
     "output_type": "execute_result"
    }
   ],
   "source": [
    "# locations\n",
    "sql_locations = \"SELECT * FROM humanresources.locations;\"\n",
    "df_locations = get_dataframe(user_id, pwd, host_name, src_dbname, sql_locations)\n",
    "df_locations.head(2)"
   ]
  },
  {
   "cell_type": "markdown",
   "id": "fb782916",
   "metadata": {},
   "source": [
    "#### Performing necessary transformations"
   ]
  },
  {
   "cell_type": "code",
   "execution_count": 9,
   "id": "3922877c",
   "metadata": {},
   "outputs": [
    {
     "data": {
      "text/html": [
       "<div>\n",
       "<style scoped>\n",
       "    .dataframe tbody tr th:only-of-type {\n",
       "        vertical-align: middle;\n",
       "    }\n",
       "\n",
       "    .dataframe tbody tr th {\n",
       "        vertical-align: top;\n",
       "    }\n",
       "\n",
       "    .dataframe thead th {\n",
       "        text-align: right;\n",
       "    }\n",
       "</style>\n",
       "<table border=\"1\" class=\"dataframe\">\n",
       "  <thead>\n",
       "    <tr style=\"text-align: right;\">\n",
       "      <th></th>\n",
       "      <th>job_key</th>\n",
       "      <th>job_title</th>\n",
       "      <th>min_salary</th>\n",
       "      <th>max_salary</th>\n",
       "    </tr>\n",
       "  </thead>\n",
       "  <tbody>\n",
       "    <tr>\n",
       "      <th>0</th>\n",
       "      <td>1</td>\n",
       "      <td>Public Accountant</td>\n",
       "      <td>4200.0</td>\n",
       "      <td>9000.0</td>\n",
       "    </tr>\n",
       "    <tr>\n",
       "      <th>1</th>\n",
       "      <td>2</td>\n",
       "      <td>Accounting Manager</td>\n",
       "      <td>8200.0</td>\n",
       "      <td>16000.0</td>\n",
       "    </tr>\n",
       "  </tbody>\n",
       "</table>\n",
       "</div>"
      ],
      "text/plain": [
       "   job_key           job_title  min_salary  max_salary\n",
       "0        1   Public Accountant      4200.0      9000.0\n",
       "1        2  Accounting Manager      8200.0     16000.0"
      ]
     },
     "execution_count": 9,
     "metadata": {},
     "output_type": "execute_result"
    }
   ],
   "source": [
    "# jobs - renaming job_id to job_key\n",
    "df_jobs.rename(columns={\"job_id\":\"job_key\"}, inplace=True)\n",
    "\n",
    "df_jobs.head(2)"
   ]
  },
  {
   "cell_type": "code",
   "execution_count": 10,
   "id": "7b47b691",
   "metadata": {},
   "outputs": [
    {
     "data": {
      "text/html": [
       "<div>\n",
       "<style scoped>\n",
       "    .dataframe tbody tr th:only-of-type {\n",
       "        vertical-align: middle;\n",
       "    }\n",
       "\n",
       "    .dataframe tbody tr th {\n",
       "        vertical-align: top;\n",
       "    }\n",
       "\n",
       "    .dataframe thead th {\n",
       "        text-align: right;\n",
       "    }\n",
       "</style>\n",
       "<table border=\"1\" class=\"dataframe\">\n",
       "  <thead>\n",
       "    <tr style=\"text-align: right;\">\n",
       "      <th></th>\n",
       "      <th>employee_key</th>\n",
       "      <th>hire_date</th>\n",
       "      <th>job_key</th>\n",
       "      <th>salary</th>\n",
       "      <th>department_key</th>\n",
       "    </tr>\n",
       "  </thead>\n",
       "  <tbody>\n",
       "    <tr>\n",
       "      <th>0</th>\n",
       "      <td>100</td>\n",
       "      <td>1987-06-17</td>\n",
       "      <td>4</td>\n",
       "      <td>24000.0</td>\n",
       "      <td>9</td>\n",
       "    </tr>\n",
       "    <tr>\n",
       "      <th>1</th>\n",
       "      <td>101</td>\n",
       "      <td>1989-09-21</td>\n",
       "      <td>5</td>\n",
       "      <td>17000.0</td>\n",
       "      <td>9</td>\n",
       "    </tr>\n",
       "  </tbody>\n",
       "</table>\n",
       "</div>"
      ],
      "text/plain": [
       "   employee_key   hire_date  job_key   salary  department_key\n",
       "0           100  1987-06-17        4  24000.0               9\n",
       "1           101  1989-09-21        5  17000.0               9"
      ]
     },
     "execution_count": 10,
     "metadata": {},
     "output_type": "execute_result"
    }
   ],
   "source": [
    "# employees - dropping first_name, last_name, email, phone_number, manager_id and renaming employee_id to employee_key, job_id to job_key, and department_id to department_key\n",
    "drop_cols = ['first_name','last_name','email', 'phone_number', 'manager_id']\n",
    "df_employees.drop(drop_cols, axis=1, inplace=True)\n",
    "df_employees.rename(columns={\"employee_id\":\"employee_key\", \"job_id\": \"job_key\", \"department_id\": \"department_key\"}, inplace=True)\n",
    "\n",
    "df_employees.head(2)"
   ]
  },
  {
   "cell_type": "code",
   "execution_count": 11,
   "id": "71823731",
   "metadata": {},
   "outputs": [
    {
     "data": {
      "text/html": [
       "<div>\n",
       "<style scoped>\n",
       "    .dataframe tbody tr th:only-of-type {\n",
       "        vertical-align: middle;\n",
       "    }\n",
       "\n",
       "    .dataframe tbody tr th {\n",
       "        vertical-align: top;\n",
       "    }\n",
       "\n",
       "    .dataframe thead th {\n",
       "        text-align: right;\n",
       "    }\n",
       "</style>\n",
       "<table border=\"1\" class=\"dataframe\">\n",
       "  <thead>\n",
       "    <tr style=\"text-align: right;\">\n",
       "      <th></th>\n",
       "      <th>department_key</th>\n",
       "      <th>department_name</th>\n",
       "      <th>location_key</th>\n",
       "    </tr>\n",
       "  </thead>\n",
       "  <tbody>\n",
       "    <tr>\n",
       "      <th>0</th>\n",
       "      <td>1</td>\n",
       "      <td>Administration</td>\n",
       "      <td>1700</td>\n",
       "    </tr>\n",
       "    <tr>\n",
       "      <th>1</th>\n",
       "      <td>2</td>\n",
       "      <td>Marketing</td>\n",
       "      <td>1800</td>\n",
       "    </tr>\n",
       "  </tbody>\n",
       "</table>\n",
       "</div>"
      ],
      "text/plain": [
       "   department_key department_name  location_key\n",
       "0               1  Administration          1700\n",
       "1               2       Marketing          1800"
      ]
     },
     "execution_count": 11,
     "metadata": {},
     "output_type": "execute_result"
    }
   ],
   "source": [
    "# departments - renaming department_id to department_key and location_id to location_key\n",
    "df_departments.rename(columns={\"department_id\":\"department_key\", \"location_id\": \"location_key\"}, inplace=True)\n",
    "\n",
    "df_departments.head(2)"
   ]
  },
  {
   "cell_type": "code",
   "execution_count": 12,
   "id": "d7398092",
   "metadata": {},
   "outputs": [
    {
     "data": {
      "text/html": [
       "<div>\n",
       "<style scoped>\n",
       "    .dataframe tbody tr th:only-of-type {\n",
       "        vertical-align: middle;\n",
       "    }\n",
       "\n",
       "    .dataframe tbody tr th {\n",
       "        vertical-align: top;\n",
       "    }\n",
       "\n",
       "    .dataframe thead th {\n",
       "        text-align: right;\n",
       "    }\n",
       "</style>\n",
       "<table border=\"1\" class=\"dataframe\">\n",
       "  <thead>\n",
       "    <tr style=\"text-align: right;\">\n",
       "      <th></th>\n",
       "      <th>location_key</th>\n",
       "      <th>state_province</th>\n",
       "    </tr>\n",
       "  </thead>\n",
       "  <tbody>\n",
       "    <tr>\n",
       "      <th>0</th>\n",
       "      <td>1400</td>\n",
       "      <td>Texas</td>\n",
       "    </tr>\n",
       "    <tr>\n",
       "      <th>1</th>\n",
       "      <td>1500</td>\n",
       "      <td>California</td>\n",
       "    </tr>\n",
       "  </tbody>\n",
       "</table>\n",
       "</div>"
      ],
      "text/plain": [
       "   location_key state_province\n",
       "0          1400          Texas\n",
       "1          1500     California"
      ]
     },
     "execution_count": 12,
     "metadata": {},
     "output_type": "execute_result"
    }
   ],
   "source": [
    "# locations - dropping street_address, postal_code, city, country_id and renaming location_id to location_key\n",
    "drop_cols = ['street_address','postal_code','city', 'country_id']\n",
    "df_locations.drop(drop_cols, axis=1, inplace=True)\n",
    "df_locations.rename(columns={\"location_id\":\"location_key\"}, inplace=True)\n",
    "\n",
    "df_locations.head(2)"
   ]
  },
  {
   "cell_type": "markdown",
   "id": "c2d83c21",
   "metadata": {},
   "source": [
    "#### Loading the transformed data frames into the new data warehouse by creating new tables"
   ]
  },
  {
   "cell_type": "code",
   "execution_count": 13,
   "id": "1ae4a558",
   "metadata": {},
   "outputs": [],
   "source": [
    "db_operation = \"insert\"\n",
    "\n",
    "tables = [('dim_jobs', df_jobs, 'job_key'),\n",
    "          ('dim_employees', df_employees, 'employee_key'),\n",
    "          ('dim_departments', df_departments, 'department_key'),\n",
    "          ('dim_locations', df_locations, 'location_key')]"
   ]
  },
  {
   "cell_type": "code",
   "execution_count": 14,
   "id": "1dcfc21f",
   "metadata": {},
   "outputs": [],
   "source": [
    "for table_name, dataframe, primary_key in tables:\n",
    "    set_dataframe(user_id, pwd, host_name, dst_dbname, dataframe, table_name, primary_key, db_operation)"
   ]
  },
  {
   "cell_type": "markdown",
   "id": "c3f17dbf",
   "metadata": {},
   "source": [
    "### Creating and populating the fact table"
   ]
  },
  {
   "cell_type": "code",
   "execution_count": 15,
   "id": "3125cc2c",
   "metadata": {},
   "outputs": [
    {
     "data": {
      "text/html": [
       "<div>\n",
       "<style scoped>\n",
       "    .dataframe tbody tr th:only-of-type {\n",
       "        vertical-align: middle;\n",
       "    }\n",
       "\n",
       "    .dataframe tbody tr th {\n",
       "        vertical-align: top;\n",
       "    }\n",
       "\n",
       "    .dataframe thead th {\n",
       "        text-align: right;\n",
       "    }\n",
       "</style>\n",
       "<table border=\"1\" class=\"dataframe\">\n",
       "  <thead>\n",
       "    <tr style=\"text-align: right;\">\n",
       "      <th></th>\n",
       "      <th>job_key</th>\n",
       "      <th>job_title</th>\n",
       "      <th>min_salary</th>\n",
       "      <th>max_salary</th>\n",
       "      <th>employee_key</th>\n",
       "      <th>hire_date</th>\n",
       "      <th>salary</th>\n",
       "      <th>department_key</th>\n",
       "    </tr>\n",
       "  </thead>\n",
       "  <tbody>\n",
       "    <tr>\n",
       "      <th>0</th>\n",
       "      <td>1</td>\n",
       "      <td>Public Accountant</td>\n",
       "      <td>4200.0</td>\n",
       "      <td>9000.0</td>\n",
       "      <td>206</td>\n",
       "      <td>1994-06-07</td>\n",
       "      <td>8300.0</td>\n",
       "      <td>11</td>\n",
       "    </tr>\n",
       "    <tr>\n",
       "      <th>1</th>\n",
       "      <td>2</td>\n",
       "      <td>Accounting Manager</td>\n",
       "      <td>8200.0</td>\n",
       "      <td>16000.0</td>\n",
       "      <td>205</td>\n",
       "      <td>1994-06-07</td>\n",
       "      <td>12000.0</td>\n",
       "      <td>11</td>\n",
       "    </tr>\n",
       "  </tbody>\n",
       "</table>\n",
       "</div>"
      ],
      "text/plain": [
       "   job_key           job_title  min_salary  max_salary  employee_key  \\\n",
       "0        1   Public Accountant      4200.0      9000.0           206   \n",
       "1        2  Accounting Manager      8200.0     16000.0           205   \n",
       "\n",
       "    hire_date   salary  department_key  \n",
       "0  1994-06-07   8300.0              11  \n",
       "1  1994-06-07  12000.0              11  "
      ]
     },
     "execution_count": 15,
     "metadata": {},
     "output_type": "execute_result"
    }
   ],
   "source": [
    "df_fact = pd.merge(df_jobs, df_employees, on='job_key', how='inner')\n",
    "df_fact.head(2)"
   ]
  },
  {
   "cell_type": "code",
   "execution_count": 16,
   "id": "42643068",
   "metadata": {},
   "outputs": [
    {
     "data": {
      "text/html": [
       "<div>\n",
       "<style scoped>\n",
       "    .dataframe tbody tr th:only-of-type {\n",
       "        vertical-align: middle;\n",
       "    }\n",
       "\n",
       "    .dataframe tbody tr th {\n",
       "        vertical-align: top;\n",
       "    }\n",
       "\n",
       "    .dataframe thead th {\n",
       "        text-align: right;\n",
       "    }\n",
       "</style>\n",
       "<table border=\"1\" class=\"dataframe\">\n",
       "  <thead>\n",
       "    <tr style=\"text-align: right;\">\n",
       "      <th></th>\n",
       "      <th>job_key</th>\n",
       "      <th>job_title</th>\n",
       "      <th>min_salary</th>\n",
       "      <th>max_salary</th>\n",
       "      <th>employee_key</th>\n",
       "      <th>hire_date</th>\n",
       "      <th>salary</th>\n",
       "      <th>department_key</th>\n",
       "      <th>department_name</th>\n",
       "      <th>location_key</th>\n",
       "    </tr>\n",
       "  </thead>\n",
       "  <tbody>\n",
       "    <tr>\n",
       "      <th>0</th>\n",
       "      <td>1</td>\n",
       "      <td>Public Accountant</td>\n",
       "      <td>4200.0</td>\n",
       "      <td>9000.0</td>\n",
       "      <td>206</td>\n",
       "      <td>1994-06-07</td>\n",
       "      <td>8300.0</td>\n",
       "      <td>11</td>\n",
       "      <td>Accounting</td>\n",
       "      <td>1700</td>\n",
       "    </tr>\n",
       "    <tr>\n",
       "      <th>1</th>\n",
       "      <td>2</td>\n",
       "      <td>Accounting Manager</td>\n",
       "      <td>8200.0</td>\n",
       "      <td>16000.0</td>\n",
       "      <td>205</td>\n",
       "      <td>1994-06-07</td>\n",
       "      <td>12000.0</td>\n",
       "      <td>11</td>\n",
       "      <td>Accounting</td>\n",
       "      <td>1700</td>\n",
       "    </tr>\n",
       "  </tbody>\n",
       "</table>\n",
       "</div>"
      ],
      "text/plain": [
       "   job_key           job_title  min_salary  max_salary  employee_key  \\\n",
       "0        1   Public Accountant      4200.0      9000.0           206   \n",
       "1        2  Accounting Manager      8200.0     16000.0           205   \n",
       "\n",
       "    hire_date   salary  department_key department_name  location_key  \n",
       "0  1994-06-07   8300.0              11      Accounting          1700  \n",
       "1  1994-06-07  12000.0              11      Accounting          1700  "
      ]
     },
     "execution_count": 16,
     "metadata": {},
     "output_type": "execute_result"
    }
   ],
   "source": [
    "df_fact = pd.merge(df_fact, df_departments, on='department_key', how='inner')\n",
    "df_fact.head(2)"
   ]
  },
  {
   "cell_type": "code",
   "execution_count": 17,
   "id": "efe72dd1",
   "metadata": {},
   "outputs": [
    {
     "data": {
      "text/html": [
       "<div>\n",
       "<style scoped>\n",
       "    .dataframe tbody tr th:only-of-type {\n",
       "        vertical-align: middle;\n",
       "    }\n",
       "\n",
       "    .dataframe tbody tr th {\n",
       "        vertical-align: top;\n",
       "    }\n",
       "\n",
       "    .dataframe thead th {\n",
       "        text-align: right;\n",
       "    }\n",
       "</style>\n",
       "<table border=\"1\" class=\"dataframe\">\n",
       "  <thead>\n",
       "    <tr style=\"text-align: right;\">\n",
       "      <th></th>\n",
       "      <th>job_key</th>\n",
       "      <th>job_title</th>\n",
       "      <th>min_salary</th>\n",
       "      <th>max_salary</th>\n",
       "      <th>employee_key</th>\n",
       "      <th>hire_date</th>\n",
       "      <th>salary</th>\n",
       "      <th>department_key</th>\n",
       "      <th>department_name</th>\n",
       "      <th>location_key</th>\n",
       "      <th>state_province</th>\n",
       "    </tr>\n",
       "  </thead>\n",
       "  <tbody>\n",
       "    <tr>\n",
       "      <th>0</th>\n",
       "      <td>1</td>\n",
       "      <td>Public Accountant</td>\n",
       "      <td>4200.0</td>\n",
       "      <td>9000.0</td>\n",
       "      <td>206</td>\n",
       "      <td>1994-06-07</td>\n",
       "      <td>8300.0</td>\n",
       "      <td>11</td>\n",
       "      <td>Accounting</td>\n",
       "      <td>1700</td>\n",
       "      <td>Washington</td>\n",
       "    </tr>\n",
       "    <tr>\n",
       "      <th>1</th>\n",
       "      <td>2</td>\n",
       "      <td>Accounting Manager</td>\n",
       "      <td>8200.0</td>\n",
       "      <td>16000.0</td>\n",
       "      <td>205</td>\n",
       "      <td>1994-06-07</td>\n",
       "      <td>12000.0</td>\n",
       "      <td>11</td>\n",
       "      <td>Accounting</td>\n",
       "      <td>1700</td>\n",
       "      <td>Washington</td>\n",
       "    </tr>\n",
       "  </tbody>\n",
       "</table>\n",
       "</div>"
      ],
      "text/plain": [
       "   job_key           job_title  min_salary  max_salary  employee_key  \\\n",
       "0        1   Public Accountant      4200.0      9000.0           206   \n",
       "1        2  Accounting Manager      8200.0     16000.0           205   \n",
       "\n",
       "    hire_date   salary  department_key department_name  location_key  \\\n",
       "0  1994-06-07   8300.0              11      Accounting          1700   \n",
       "1  1994-06-07  12000.0              11      Accounting          1700   \n",
       "\n",
       "  state_province  \n",
       "0     Washington  \n",
       "1     Washington  "
      ]
     },
     "execution_count": 17,
     "metadata": {},
     "output_type": "execute_result"
    }
   ],
   "source": [
    "df_fact = pd.merge(df_fact, df_locations, on='location_key', how='inner')\n",
    "df_fact.head(2)"
   ]
  },
  {
   "cell_type": "code",
   "execution_count": 18,
   "id": "a5362354",
   "metadata": {},
   "outputs": [
    {
     "data": {
      "text/html": [
       "<div>\n",
       "<style scoped>\n",
       "    .dataframe tbody tr th:only-of-type {\n",
       "        vertical-align: middle;\n",
       "    }\n",
       "\n",
       "    .dataframe tbody tr th {\n",
       "        vertical-align: top;\n",
       "    }\n",
       "\n",
       "    .dataframe thead th {\n",
       "        text-align: right;\n",
       "    }\n",
       "</style>\n",
       "<table border=\"1\" class=\"dataframe\">\n",
       "  <thead>\n",
       "    <tr style=\"text-align: right;\">\n",
       "      <th></th>\n",
       "      <th>employee_key</th>\n",
       "      <th>job_key</th>\n",
       "      <th>job_title</th>\n",
       "      <th>department_key</th>\n",
       "      <th>department_name</th>\n",
       "      <th>location_key</th>\n",
       "      <th>hire_date</th>\n",
       "      <th>salary</th>\n",
       "    </tr>\n",
       "  </thead>\n",
       "  <tbody>\n",
       "    <tr>\n",
       "      <th>0</th>\n",
       "      <td>206</td>\n",
       "      <td>1</td>\n",
       "      <td>Public Accountant</td>\n",
       "      <td>11</td>\n",
       "      <td>Accounting</td>\n",
       "      <td>1700</td>\n",
       "      <td>1994-06-07</td>\n",
       "      <td>8300.0</td>\n",
       "    </tr>\n",
       "    <tr>\n",
       "      <th>1</th>\n",
       "      <td>205</td>\n",
       "      <td>2</td>\n",
       "      <td>Accounting Manager</td>\n",
       "      <td>11</td>\n",
       "      <td>Accounting</td>\n",
       "      <td>1700</td>\n",
       "      <td>1994-06-07</td>\n",
       "      <td>12000.0</td>\n",
       "    </tr>\n",
       "  </tbody>\n",
       "</table>\n",
       "</div>"
      ],
      "text/plain": [
       "   employee_key  job_key           job_title  department_key department_name  \\\n",
       "0           206        1   Public Accountant              11      Accounting   \n",
       "1           205        2  Accounting Manager              11      Accounting   \n",
       "\n",
       "   location_key   hire_date   salary  \n",
       "0          1700  1994-06-07   8300.0  \n",
       "1          1700  1994-06-07  12000.0  "
      ]
     },
     "execution_count": 18,
     "metadata": {},
     "output_type": "execute_result"
    }
   ],
   "source": [
    "# dropping unnecessary columns from the fact table\n",
    "drop_cols = ['min_salary','max_salary', 'state_province']\n",
    "df_fact.drop(drop_cols, axis=1, inplace=True)\n",
    "\n",
    "# reordering the columns\n",
    "ordered_columns = ['employee_key', 'job_key','job_title','department_key','department_name','location_key',\n",
    "                   'hire_date','salary']\n",
    "df_fact = df_fact[ordered_columns]\n",
    "\n",
    "df_fact.head(2)"
   ]
  },
  {
   "cell_type": "markdown",
   "id": "e47af9b3",
   "metadata": {},
   "source": [
    "##### Writing the dataframe back to the database"
   ]
  },
  {
   "cell_type": "code",
   "execution_count": 19,
   "id": "a547b67a",
   "metadata": {},
   "outputs": [],
   "source": [
    "table_name = \"fact\"\n",
    "primary_key = \"employee_key\"\n",
    "db_operation = \"insert\"\n",
    "\n",
    "set_dataframe(user_id, pwd, host_name, dst_dbname, df_fact, table_name, primary_key, db_operation)"
   ]
  },
  {
   "cell_type": "markdown",
   "id": "ae0e5ad1",
   "metadata": {},
   "source": [
    "### Performing an aggregation - averaging the salaries of each department and looking at them in descending order to see which department has the highest average salary"
   ]
  },
  {
   "cell_type": "code",
   "execution_count": 66,
   "id": "84348667",
   "metadata": {},
   "outputs": [],
   "source": [
    "sql_test = \"\"\"\n",
    "    SELECT employees.`department_name` AS `department_name`,\n",
    "        AVG(employees.`salary`) AS `average_salary_in_department`\n",
    "    FROM `{0}`.`fact` AS employees\n",
    "    INNER JOIN `{0}`.`dim_departments` AS departments\n",
    "    ON employees.department_key = departments.department_key\n",
    "    GROUP BY employees.`department_name`\n",
    "    ORDER BY average_salary_in_department DESC;\n",
    "\"\"\".format(dst_dbname)\n",
    "\n",
    "df_test = get_dataframe(user_id, pwd, host_name, src_dbname, sql_test)"
   ]
  },
  {
   "cell_type": "code",
   "execution_count": 67,
   "id": "0133853c",
   "metadata": {},
   "outputs": [
    {
     "data": {
      "text/html": [
       "<div>\n",
       "<style scoped>\n",
       "    .dataframe tbody tr th:only-of-type {\n",
       "        vertical-align: middle;\n",
       "    }\n",
       "\n",
       "    .dataframe tbody tr th {\n",
       "        vertical-align: top;\n",
       "    }\n",
       "\n",
       "    .dataframe thead th {\n",
       "        text-align: right;\n",
       "    }\n",
       "</style>\n",
       "<table border=\"1\" class=\"dataframe\">\n",
       "  <thead>\n",
       "    <tr style=\"text-align: right;\">\n",
       "      <th></th>\n",
       "      <th>department_name</th>\n",
       "      <th>average_salary_in_department</th>\n",
       "    </tr>\n",
       "  </thead>\n",
       "  <tbody>\n",
       "    <tr>\n",
       "      <th>0</th>\n",
       "      <td>Executive</td>\n",
       "      <td>19333.333333</td>\n",
       "    </tr>\n",
       "    <tr>\n",
       "      <th>1</th>\n",
       "      <td>Accounting</td>\n",
       "      <td>10150.000000</td>\n",
       "    </tr>\n",
       "    <tr>\n",
       "      <th>2</th>\n",
       "      <td>Public Relations</td>\n",
       "      <td>10000.000000</td>\n",
       "    </tr>\n",
       "    <tr>\n",
       "      <th>3</th>\n",
       "      <td>Sales</td>\n",
       "      <td>9616.666667</td>\n",
       "    </tr>\n",
       "    <tr>\n",
       "      <th>4</th>\n",
       "      <td>Marketing</td>\n",
       "      <td>9500.000000</td>\n",
       "    </tr>\n",
       "    <tr>\n",
       "      <th>5</th>\n",
       "      <td>Finance</td>\n",
       "      <td>8600.000000</td>\n",
       "    </tr>\n",
       "    <tr>\n",
       "      <th>6</th>\n",
       "      <td>Human Resources</td>\n",
       "      <td>6500.000000</td>\n",
       "    </tr>\n",
       "    <tr>\n",
       "      <th>7</th>\n",
       "      <td>Shipping</td>\n",
       "      <td>5885.714286</td>\n",
       "    </tr>\n",
       "    <tr>\n",
       "      <th>8</th>\n",
       "      <td>IT</td>\n",
       "      <td>5760.000000</td>\n",
       "    </tr>\n",
       "    <tr>\n",
       "      <th>9</th>\n",
       "      <td>Administration</td>\n",
       "      <td>4400.000000</td>\n",
       "    </tr>\n",
       "    <tr>\n",
       "      <th>10</th>\n",
       "      <td>Purchasing</td>\n",
       "      <td>4150.000000</td>\n",
       "    </tr>\n",
       "  </tbody>\n",
       "</table>\n",
       "</div>"
      ],
      "text/plain": [
       "     department_name  average_salary_in_department\n",
       "0          Executive                  19333.333333\n",
       "1         Accounting                  10150.000000\n",
       "2   Public Relations                  10000.000000\n",
       "3              Sales                   9616.666667\n",
       "4          Marketing                   9500.000000\n",
       "5            Finance                   8600.000000\n",
       "6    Human Resources                   6500.000000\n",
       "7           Shipping                   5885.714286\n",
       "8                 IT                   5760.000000\n",
       "9     Administration                   4400.000000\n",
       "10        Purchasing                   4150.000000"
      ]
     },
     "execution_count": 67,
     "metadata": {},
     "output_type": "execute_result"
    }
   ],
   "source": [
    "df_test"
   ]
  }
 ],
 "metadata": {
  "kernelspec": {
   "display_name": "Python 3",
   "language": "python",
   "name": "python3"
  },
  "language_info": {
   "codemirror_mode": {
    "name": "ipython",
    "version": 3
   },
   "file_extension": ".py",
   "mimetype": "text/x-python",
   "name": "python",
   "nbconvert_exporter": "python",
   "pygments_lexer": "ipython3",
   "version": "3.8.8"
  }
 },
 "nbformat": 4,
 "nbformat_minor": 5
}
